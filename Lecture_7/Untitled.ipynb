{
 "cells": [
  {
   "cell_type": "code",
   "execution_count": 76,
   "metadata": {},
   "outputs": [],
   "source": [
    "#-- 리스트 7-1-(1)\n",
    "import numpy as np\n",
    "# 데이터 생성 ------------------\n",
    "np.random.seed(seed=1)\n",
    "N =200\n",
    "K = 3\n",
    "T = np.zeros((N, 3), dtype=np.uint8)\n",
    "X = np.zeros((N, 2))\n",
    "X_range0 = [-3, 3]\n",
    "X_range1 = [-3, 3]\n",
    "Mu = np.array([[-.5, -.5], [.5, 1.0], [1, -.5]])\n",
    "Sig = np.array([[.7, .7], [.8, .3], [.3, .8]])\n",
    "Pi = np.array([0.4, 0.8, 1])\n",
    "for n in range(N):\n",
    "    wk = np.random.rand()\n",
    "    for k in range(K):\n",
    "        if wk < Pi[k]:\n",
    "            T[n, k] = 1\n",
    "            break\n",
    "    for k in range(2):\n",
    "        X[n, k] = np.random.randn() * Sig[T[n, :] == 1, k] + \\\n",
    "        Mu[T[n, :] == 1, k]"
   ]
  },
  {
   "cell_type": "code",
   "execution_count": 77,
   "metadata": {},
   "outputs": [],
   "source": [
    "#-- 리스트 7-1-(2)\n",
    "# ------------- 2 분류 데이터를 테스트 훈련 데이터로 분할\n",
    "TestRatio = 0.5\n",
    "X_n_training = int(N * TestRatio)\n",
    "X_train = X[:X_n_training, :]\n",
    "X_test = X[X_n_training:, :]\n",
    "T_train = T[:X_n_training, :]\n",
    "T_test = T[X_n_training:, :]\n",
    "\n",
    "\n",
    "# --------------- 데이터를 'class_data.npz'에 저장\n",
    "np.savez('class_data.npz', X_train=X_train, T_train=T_train, X_test=X_test, T_test=T_test, X_range0=X_range0, X_range1=X_range1)"
   ]
  },
  {
   "cell_type": "code",
   "execution_count": 78,
   "metadata": {},
   "outputs": [
    {
     "data": {
      "image/png": "[encoded data removed]",
      "text/plain": [
       "<Figure size 576x266.4 with 2 Axes>"
      ]
     },
     "metadata": {},
     "output_type": "display_data"
    }
   ],
   "source": [
    "# -- 리스트 7-1-(3)\n",
    "import matplotlib.pyplot as plt\n",
    "%matplotlib inline\n",
    "\n",
    "\n",
    "# 데이터를 그리기 ------------------\n",
    "def Show_data(x, t):\n",
    "    wk, n = t.shape\n",
    "    c = [[0, 0, 0], [.5, .5, .5], [1, 1, 1]]\n",
    "    for i in range(n):\n",
    "        plt.plot(x[t[:, i] == 1, 0], x[t[:, i] == 1, 1], linestyle='none', marker='o', markeredgecolor='black', color=c[i], alpha=0.8)\n",
    "    plt.grid(True)\n",
    "    \n",
    "# 메인 ----------------------------\n",
    "plt.figure(1, figsize=(8, 3.7))\n",
    "plt.subplot(1, 2, 1)\n",
    "Show_data(X_train, T_train)\n",
    "plt.xlim(X_range0)\n",
    "plt.ylim(X_range1)\n",
    "plt.title('Training Data')\n",
    "plt.subplot(1, 2, 2)\n",
    "Show_data(X_test, T_test)\n",
    "plt.xlim(X_range0)\n",
    "plt.ylim(X_range1)\n",
    "plt.title('Test Data')\n",
    "plt.show()"
   ]
  },
  {
   "cell_type": "code",
   "execution_count": 79,
   "metadata": {},
   "outputs": [
    {
     "data": {
      "text/plain": [
       "(array([[0.33333333, 0.33333333, 0.33333333],\n",
       "        [0.33333333, 0.33333333, 0.33333333]]),\n",
       " array([[2.6971835 , 2.6971835 , 2.6971835 ],\n",
       "        [1.49172649, 1.49172649, 1.49172649]]),\n",
       " array([[0.84859175, 0.84859175, 1.        ],\n",
       "        [0.24586324, 0.24586324, 1.        ]]),\n",
       " array([[ 1.72359839,  1.72359839,  0.        ],\n",
       "        [-1.12079826, -1.12079826,  0.        ]]))"
      ]
     },
     "execution_count": 79,
     "metadata": {},
     "output_type": "execute_result"
    }
   ],
   "source": [
    "def FNN(wv, M, K, x):\n",
    "    N, D = x.shape # 입력 차원\n",
    "    w = wv[:M * (D + 1)] # 중간층 뉴런의 가중치\n",
    "    w = w.reshape(M, (D + 1))\n",
    "    v = wv[M * (D + 1):] # 출력층 뉴런의 가중치\n",
    "    v = v.reshape((K, M + 1))\n",
    "    b = np.zeros((N, M + 1)) # 중간층 뉴런의 입력 총합\n",
    "    z = np.zeros((N, M + 1)) # 중간층 뉴런의 출력\n",
    "    a = np.zeros((N, K)) # 출력층 뉴런의 입력 총합\n",
    "    y = np.zeros((N, K)) # 출력층 뉴런의 출력\n",
    "    for n in range(N):\n",
    "    # 중간층의 계산\n",
    "        for m in range(M):\n",
    "            b[n, m] = np.dot(w[m, :], np.r_[x[n, :], 1]) # (A)\n",
    "            z[n, m] = Sigmoid(b[n, m])\n",
    "    # 출력층의 계산\n",
    "        z[n, M] = 1 # 더미 뉴런\n",
    "        wkz = 0\n",
    "        for k in range(K):\n",
    "            a[n, k] = np.dot(v[k, :], z[n, :])\n",
    "            wkz = wkz + np.exp(a[n, k])\n",
    "        for k in range(K):\n",
    "            y[n, k] = np.exp(a[n, k]) / wkz\n",
    "    return y, a, z, b\n",
    "WV = np.ones(15)\n",
    "M = 2\n",
    "K = 3\n",
    "FNN(WV, M, K, X_train[:2, :])"
   ]
  },
  {
   "cell_type": "code",
   "execution_count": 80,
   "metadata": {},
   "outputs": [
    {
     "data": {
      "text/plain": [
       "1.0986122886681098"
      ]
     },
     "execution_count": 80,
     "metadata": {},
     "output_type": "execute_result"
    }
   ],
   "source": [
    "# 리스트 7-1-(5)\n",
    "# 평균 교차 엔트로피 오차 ---------\n",
    "def CE_FNN(wv, M, K, x, t):\n",
    "    N, D = x.shape\n",
    "    y, a, z, b = FNN(wv, M, K, x)\n",
    "    ce = -np.dot(np.log(y.reshape(-1)), t.reshape(-1)) / N\n",
    "    return ce\n",
    "\n",
    "# test ---\n",
    "WV = np.ones(15)\n",
    "M = 2\n",
    "K = 3\n",
    "CE_FNN(WV, M, K, X_train[:2, :], T_train[:2, :])"
   ]
  },
  {
   "cell_type": "code",
   "execution_count": 81,
   "metadata": {},
   "outputs": [
    {
     "name": "stdout",
     "output_type": "stream",
     "text": [
      "[ 0.0884813   0.19157999 -0.05139799  0.01281536 -0.14468029 -0.14242768\n",
      " -0.02992012  0.01351315 -0.11115648 -0.10104422 -0.09427964 -0.46855603\n",
      "  0.13096434  0.08076649  0.57971252]\n"
     ]
    },
    {
     "data": {
      "image/png": "[encoded data removed]",
      "text/plain": [
       "<Figure size 360x216 with 1 Axes>"
      ]
     },
     "metadata": {},
     "output_type": "display_data"
    }
   ],
   "source": [
    "# 리스트 7-1-(6)\n",
    "# - 수치 미분 -----------------------\n",
    "def dCE_FNN_num(wv, M, K, x, t):\n",
    "    epsilon = 0.001\n",
    "    dwv = np.zeros_like(wv)\n",
    "    for iwv in range(len(wv)):\n",
    "        wv_modified = wv.copy()\n",
    "        wv_modified[iwv] = wv[iwv] - epsilon\n",
    "        mse1 = CE_FNN(wv_modified, M, K, x, t)\n",
    "        wv_modified[iwv] = wv[iwv] + epsilon\n",
    "        mse2 = CE_FNN(wv_modified, M, K, x, t)\n",
    "        dwv[iwv] = (mse2 - mse1) / (2 * epsilon)\n",
    "    return dwv\n",
    "\n",
    "#--dVM의 표시------------------------\n",
    "def Show_WV(wv, M):\n",
    "    N = wv.shape[0]\n",
    "    plt.bar(range(1, M * 3 + 1), wv[:M*3], align=\"center\", color='black')\n",
    "    plt.bar(range(M*3+1, N + 1), wv[M*3:], align=\"center\", color='cornflowerblue')\n",
    "    plt.xticks(range(1, N+1))\n",
    "    plt.xlim(0, N+1)\n",
    "    \n",
    "#-test-----------\n",
    "M =2 \n",
    "K =3\n",
    "nWV = M * 3 + K * (M + 1)\n",
    "np.random.seed(1)\n",
    "WV = np.random.normal(0, 1, nWV)\n",
    "dWV = dCE_FNN_num(WV, M, K, X_train[:2, :], T_train[:2, :])\n",
    "print(dWV)\n",
    "plt.figure(1, figsize=(5, 3))\n",
    "Show_WV(dWV, M)\n",
    "plt.show()"
   ]
  },
  {
   "cell_type": "code",
   "execution_count": 82,
   "metadata": {},
   "outputs": [
    {
     "name": "stdout",
     "output_type": "stream",
     "text": [
      "Calculation time : 0.248 sec\n"
     ]
    }
   ],
   "source": [
    "# 리스트 7-1-(7)\n",
    "import time\n",
    "\n",
    "# 수치 미분을 사용한 경사 하강법 -------\n",
    "def Fit_FNN_num(wv_init, M, K, x_train, t_train, x_test, t_test, n, alpha):\n",
    "    wvt = wv_init\n",
    "    err_train = np.zeros(n)\n",
    "    err_test = np.zeros(n)\n",
    "    wv_hist = np.zeros((n, len(wv_init)))\n",
    "    epsilon = 0.001\n",
    "    for i in range(n):\n",
    "        wvt = wvt - alpha * dCE_FNN_num(wvt, M, K, x_train, t_train)\n",
    "        err_train[i] = CE_FNN(wvt, M, K, x_train, t_train)\n",
    "        err_test[i] = CE_FNN(wvt, M, K, x_test, t_test)\n",
    "        wv_hist[i, :] = wvt\n",
    "        return wvt, wv_hist, err_train, err_test\n",
    "    \n",
    "# 메인 -------------------------------\n",
    "startTime = time.time()\n",
    "M = 2\n",
    "K = 3\n",
    "np.random.seed(1)\n",
    "WV_init = np.random.normal(0,0.01, M*3+K *(M+1))\n",
    "N_step = 1000 # (B) 학습 단계\n",
    "alpha = 0.5\n",
    "WV, WV_hist, Err_train, Err_test = Fit_FNN_num(WV_init, M ,K, X_train, T_train, X_test, T_test, N_step, alpha)\n",
    "calculation_time = time.time() - startTime\n",
    "print(\"Calculation time : {0:.3f} sec\".format(calculation_time))"
   ]
  },
  {
   "cell_type": "code",
   "execution_count": 83,
   "metadata": {},
   "outputs": [
    {
     "data": {
      "image/png": "[encoded data removed]",
      "text/plain": [
       "<Figure size 216x216 with 1 Axes>"
      ]
     },
     "metadata": {},
     "output_type": "display_data"
    }
   ],
   "source": [
    "# 리스트 7-1-(8)\n",
    "# 학습 오차의 표시 ------------------------------\n",
    "plt.figure(1, figsize=(3,3))\n",
    "plt.plot(Err_train, 'black', label='training')\n",
    "plt.plot(Err_test, 'cornflowerblue', label='test')\n",
    "plt.legend()\n",
    "plt.show()"
   ]
  },
  {
   "cell_type": "code",
   "execution_count": 84,
   "metadata": {},
   "outputs": [
    {
     "data": {
      "image/png": "[encoded data removed]",
      "text/plain": [
       "<Figure size 216x216 with 1 Axes>"
      ]
     },
     "metadata": {},
     "output_type": "display_data"
    }
   ],
   "source": [
    "plt.figure(1, figsize=(3, 3))\n",
    "plt.plot(WV_hist[:, :M*3], 'black')\n",
    "plt.plot(WV_hist[:, M*3:], 'cornflowerblue')\n",
    "plt.show()"
   ]
  },
  {
   "cell_type": "code",
   "execution_count": null,
   "metadata": {},
   "outputs": [],
   "source": [
    "# 리스트 7-1-(10)\n",
    "# 경계선 표시 함수 ----------------------\n",
    "def show_FNN(wv, M, K):\n",
    "    xn = 60 # 등고선 표시 해상도\n",
    "    x0 = np.linspace(X_range0[0], X_range0[1], xn)\n",
    "    x1 = np.linspace(X_range1[0], X_range1[1], xn)\n",
    "    xx0, xx1 = np.meshgrid(x0, x1)\n",
    "    x = np.c_[np.reshape(xx0, xn * xn, 1), np.reshape(xx1, xn * xn, 1)]\n",
    "    y, a, z, b = FNN(wv, M, K, x)\n",
    "    plt.figure(1, figsize=(4, 4))\n",
    "    for ic in range(K):\n",
    "        f = y[:, ic]\n",
    "        f = f.reshape(xn, xn)\n",
    "        f = f.T\n",
    "        cont = plt.contour(xx0, xx1, f, levels=[0.8, 0.9], colors=['cornflowerblue', 'black'])\n",
    "        cont.clabel(fmt='%1.1f', fontsize=9)\n",
    "    plt.xlim(X_range0)\n",
    "    plt.ylim(X_range1)\n",
    "    \n",
    "# 경계선 표시 --------------------------\n",
    "plt.figure(1, figsize=(3, 3))\n",
    "Show_data(X_test, T_test)\n",
    "show_FNN(WV, M, K)\n",
    "plt.show()"
   ]
  },
  {
   "cell_type": "code",
   "execution_count": 89,
   "metadata": {},
   "outputs": [
    {
     "name": "stdout",
     "output_type": "stream",
     "text": [
      "analytical dWV\n",
      "[-0.1454769  -0.11140697  0.24387648 -0.05309351  0.06953083  0.17526663\n",
      " -0.02992012  0.01351315 -0.11115649 -0.10104422 -0.09427964 -0.46855604\n",
      "  0.13096434  0.08076649  0.57971253]\n",
      "numerical dWV\n",
      "[ 0.0884813   0.19157999 -0.05139799  0.01281536 -0.14468029 -0.14242768\n",
      " -0.02992012  0.01351315 -0.11115648 -0.10104422 -0.09427964 -0.46855603\n",
      "  0.13096434  0.08076649  0.57971252]\n"
     ]
    },
    {
     "data": {
      "image/png": "[encoded data removed]",
      "text/plain": [
       "<Figure size 576x216 with 2 Axes>"
      ]
     },
     "metadata": {},
     "output_type": "display_data"
    }
   ],
   "source": [
    "# 리스트 7-1-(11)\n",
    "# ------------ 해석적 미분-------------------------------\n",
    "def dCE_FNN(wv, M, K, x, t):\n",
    "    N, D = x.shape\n",
    "    # wv을 w와 v로 되돌림\n",
    "    w = wv[:M * (D+1)]\n",
    "    w = w.reshape(M, (D+1))\n",
    "    v = wv[M * (D+1):]\n",
    "    v = v.reshape((K, M + 1))\n",
    "    y, a, z, b = FNN(wv, M, K, x)\n",
    "    dwv = np.zeros_like(wv)\n",
    "    dw = np.zeros((M, D+1))\n",
    "    dv = np.zeros((K, M + 1))\n",
    "    delta1 = np.zeros(M)\n",
    "    delta2 = np.zeros(K)\n",
    "    for n in range(N):\n",
    "        for k in range(K):\n",
    "            delta2[k] = (y[n, k] - t[n, k])\n",
    "        for j in range(M):\n",
    "            delta1[j] = z[n, j] * (1-z[n,j]*np.dot(v[:, j], delta2))\n",
    "        for k in range(K):\n",
    "            dv[k, :] = dv[k, :] + delta2[k]*z[n, :]/N\n",
    "        for j in range(M):\n",
    "            dw[j, :] = dw[j, :] + delta1[j] * np.r_[x[n, :], 1]/N\n",
    "    dwv = np.c_[dw.reshape((1, M*(D+1))), dv.reshape((1, K*(M+1)))]\n",
    "    dwv = dwv.reshape(-1)\n",
    "    return dwv\n",
    "\n",
    "#------------Show VW\n",
    "def Show_dWV(wv, M):\n",
    "    N = wv.shape[0]\n",
    "    plt.bar(range(1, M*3+1), wv[:M * 3], align=\"center\", color='black')\n",
    "    plt.bar(range(M*3+1, N + 1), wv[M * 3:], align=\"center\", color='cornflowerblue')\n",
    "    plt.xticks(range(1, N+1))\n",
    "    plt.xlim(0, N+1)\n",
    "    \n",
    "#-- 동작 확인\n",
    "M = 2\n",
    "K = 3\n",
    "N = 2\n",
    "nWV = M*3+K*(M+1)\n",
    "np.random.seed(1)\n",
    "WV = np.random.normal(0, 1, nWV)\n",
    "\n",
    "dWV_ana=dCE_FNN(WV, M, K, X_train[:N, :], T_train[:N, :])\n",
    "print(\"analytical dWV\")\n",
    "print(dWV_ana)\n",
    "\n",
    "dWV_num = dCE_FNN_num(WV, M, K, X_train[:N, :], T_train[:N, :])\n",
    "print(\"numerical dWV\")\n",
    "print(dWV_num)\n",
    "\n",
    "plt.figure(1, figsize=(8, 3))\n",
    "plt.subplots_adjust(wspace=0.5)\n",
    "plt.subplot(1, 2, 1)\n",
    "Show_dWV(dWV_ana, M)\n",
    "plt.title('analitical')\n",
    "plt.subplot(1, 2, 2)\n",
    "Show_dWV(dWV_num, M)\n",
    "plt.title('numerical')\n",
    "plt.show()"
   ]
  },
  {
   "cell_type": "code",
   "execution_count": 90,
   "metadata": {},
   "outputs": [
    {
     "name": "stdout",
     "output_type": "stream",
     "text": [
      "Calculation time: 0.248 sec\n"
     ]
    }
   ],
   "source": [
    "# 리스트 7-1-(12)\n",
    "import time\n",
    "\n",
    "# 해석적 미분을 사용한 경사 하강법 -------\n",
    "def Fit_FNN(wv_init, M, K, x_train, t_train, x_test, t_test, n, alpha):\n",
    "    wv = wv_init.copy()\n",
    "    err_train = np.zeros(n)\n",
    "    err_test = np.zeros(n)\n",
    "    wv_hist = np.zeros((n, len(wv_init)))\n",
    "    epsilon = 0.001\n",
    "    for i in range(n):\n",
    "        wv = wv-alpha*dCE_FNN(wv, M, K, x_train, t_train)\n",
    "        err_train[i] = CE_FNN(wv, M, K, x_train, t_train)\n",
    "        err_test[i] = CE_FNN(wv, M, K, x_test, t_test)\n",
    "        wv_hist[i, :]=wv\n",
    "    return wv, wv_hist, err_train, err_test\n",
    "\n",
    "# 메인 -------------------------------------\n",
    "startTime = time.time()\n",
    "M = 2\n",
    "K = 3\n",
    "np.random.seed(1)\n",
    "WV_init = np.random.normal(0, 0.01, M*3+K*(M+1))\n",
    "N_step = 1000\n",
    "alpha = 1\n",
    "WV, WV_hist, Err_train, Err_test = Fit_FNN(WV_init, M, K, X_train, T_train, X_test, T_test, N_step, alpha)\n",
    "claculation_time = time.time() - startTime\n",
    "print(\"Calculation time: {0:.3f} sec\".format(calculation_time))"
   ]
  },
  {
   "cell_type": "code",
   "execution_count": null,
   "metadata": {},
   "outputs": [],
   "source": [
    "# 리스트 7-1-(13)\n",
    "plt.figure(1, figsize=(12, 3))\n",
    "plt.subplots_adjust(wspace=0.5)\n",
    "# 학습 오차의 표시 ----------------------\n",
    "plt.subplot(1, 3, 1)\n",
    "plt.plot(Err_train, 'black', label='training')\n",
    "plt.plot(Err_test, 'cornflowerblue', label='test')\n",
    "plt.legend()\n",
    "# 가중치의 시간 변화 표시 ----------------\n",
    "plt.subplot(1, 3, 2)\n",
    "plt.plot(WV_hist[:, :M*3], 'black')\n",
    "plt.plot(WV_hist[:, M*3], 'cornflowerblue')\n",
    "# 경계선 표시 ----------------------------\n",
    "plt.subplot(1, 3, 3)\n",
    "Show_data(X_test, T_test)\n",
    "M = 2\n",
    "K = 3\n",
    "show_FNN(WV, M, K)\n",
    "plt.show()"
   ]
  },
  {
   "cell_type": "code",
   "execution_count": null,
   "metadata": {},
   "outputs": [],
   "source": [
    "# 리스트 7-1-(14)\n",
    "from mpl_toolkits.mplot3d import Axes3D\n",
    "\n",
    "def show_activation3d(ax, v, v_ticks, title_str):\n",
    "    f = v.copy()\n",
    "    f = f.reshape(xn, xn)   \n",
    "    f = f.T\n",
    "    ax.plot_surface(xx0, xx1, f, color='blue', edgecolor='black', rstride=1, cstride=1, alpha=0.5)\n",
    "    ax.view_init(70, -110)\n",
    "    ax.set_xticklabels([])\n",
    "    ax.set_yticklabels([])\n",
    "    ax.set_zticklabels(v_ticks)\n",
    "    ax.set_title(title_str, fontsize=18)\n",
    "    \n",
    "M = 2\n",
    "K = 3\n",
    "xn = 15\n",
    "x0 = np.linspace(X_range0[0], X_range0[1], xn)\n",
    "x1 = np.linspace(X_range1[0], X_range1[1], xn)\n",
    "xx0, xx1 = np.meshgrid(x0, x1)\n",
    "x = np.c_[np.reshape(xx0, xn*xn, 1), np.reshape(xx1, xn*xn, 1)]\n",
    "y, a, z, b = FNN(WV, M, K, x)\n",
    "\n",
    "fig=plt.figure(1, figsize=(12, 9))\n",
    "plt.subplots_adjust(left=0.075, bottom=0.05, right=0.95, top=0.95, wspace=0.4, hspace=0.4)\n",
    "\n",
    "for m in range(M):\n",
    "    ax = fig.add_subplot(3, 4, 1+m*4, projection='3d')\n",
    "    show_activation3d(ax, b[:, m], [-10, 10], '$b_{0:d}$'.format(m))\n",
    "    ax = fig.add_subplot(3, 4, 2+m*4, projection='3d')\n",
    "    show_activation3d(ax, z[:, m], [0, 1], '$z_{0:d}$'.format(m))\n",
    "    \n",
    "for k in range(K):\n",
    "    ax = fig.add_subplot(3, 4, 3+k*4, projection='3d')\n",
    "    show_activation3d(ax, a[:, k], [-5, 5], '$a_{0:d}$'.format(k))\n",
    "    ax = fig.add_subplot(3, 4, 4+k*4, projection='3d')\n",
    "    show_activation3d(ax, y[:, k], [0, 1], '$y_{0:d}$'.format(k))\n",
    "\n",
    "plt.show()"
   ]
  },
  {
   "cell_type": "code",
   "execution_count": 91,
   "metadata": {},
   "outputs": [
    {
     "name": "stdout",
     "output_type": "stream",
     "text": [
      "Once deleted, variables cannot be recovered. Proceed (y/[n])? y\n"
     ]
    }
   ],
   "source": [
    "%reset"
   ]
  },
  {
   "cell_type": "code",
   "execution_count": 102,
   "metadata": {},
   "outputs": [],
   "source": [
    "# 리스트 7-2-(1)\n",
    "import numpy as np\n",
    "import matplotlib.pyplot as plt\n",
    "import time\n",
    "np.random.seed(1) # (A)\n",
    "import keras.optimizers\n",
    "from keras.models import Sequential # (C)\n",
    "from keras.layers.core import Dense, Activation # (D)\n",
    "\n",
    "# 데이터 로드 -----------------------------\n",
    "outfile = np.load('class_data.npz')\n",
    "X_train = outfile['X_train']\n",
    "T_train = outfile['T_train']\n",
    "X_test = outfile['X_test']\n",
    "T_test = outfile['T_test']\n",
    "X_range0 = outfile['X_range0']\n",
    "X_range1 = outfile['X_range1']"
   ]
  },
  {
   "cell_type": "code",
   "execution_count": 103,
   "metadata": {},
   "outputs": [],
   "source": [
    "# 리스트 7-2-(2)\n",
    "# 데이터를 그리기 ----------------------------\n",
    "def Show_data(x, t):\n",
    "    wk, n = t.shape\n",
    "    c = [[0,0,0], [.5, .5, .5], [1, 1, 1]]\n",
    "    for i in range(n):\n",
    "        plt.plot(x[t[:,i]==1, 0], x[t[:,i]==1,1],linestyle='none', marker='o', markeredgecolor='black', color=c[i], alpha=0.8)\n",
    "    plt.grid(True)"
   ]
  },
  {
   "cell_type": "code",
   "execution_count": 104,
   "metadata": {},
   "outputs": [
    {
     "name": "stdout",
     "output_type": "stream",
     "text": [
      "cross entrophy 0.32, accuracy 0.88\n",
      "Calculation time: 2.577 sec\n"
     ]
    }
   ],
   "source": [
    "# 리스트 7-2-(3)\n",
    "# 난수 초기화\n",
    "np.random.seed(1)\n",
    "\n",
    "# --- Sequential 모델 작성\n",
    "model = Sequential()\n",
    "model.add(Dense(2, input_dim=2, activation='sigmoid', kernel_initializer='uniform')) #(A)\n",
    "model.add(Dense(3, activation='softmax', kernel_initializer='uniform')) # (B)\n",
    "sgd = keras.optimizers.SGD(lr=1, momentum=0.0, decay=0.0, nesterov=False) # (C)\n",
    "model.compile(optimizer=sgd, loss='categorical_crossentropy', metrics=['accuracy'])\n",
    "\n",
    "# ---------------- 학습\n",
    "startTime = time.time()\n",
    "history = model.fit(X_train, T_train, epochs=1000, batch_size=100, verbose=0,  validation_data=(X_test, T_test))\n",
    "\n",
    "# ----------------- 모델 평가\n",
    "score=model.evaluate(X_test, T_test, verbose=0)\n",
    "print('cross entrophy {0:3.2f}, accuracy {1:3.2f}'.format(score[0], score[1]))\n",
    "calculation_time = time.time() - startTime\n",
    "print(\"Calculation time: {0:.3f} sec\".format(calculation_time))"
   ]
  },
  {
   "cell_type": "code",
   "execution_count": 108,
   "metadata": {},
   "outputs": [
    {
     "ename": "KeyError",
     "evalue": "'acc'",
     "output_type": "error",
     "traceback": [
      "\u001b[0;31m---------------------------------------------------------------------------\u001b[0m",
      "\u001b[0;31mKeyError\u001b[0m                                  Traceback (most recent call last)",
      "\u001b[0;32m<ipython-input-108-32874a0ee1d2>\u001b[0m in \u001b[0;36m<module>\u001b[0;34m()\u001b[0m\n\u001b[1;32m     12\u001b[0m \u001b[0;31m# 정확도 표시 --------------------\u001b[0m\u001b[0;34m\u001b[0m\u001b[0;34m\u001b[0m\u001b[0;34m\u001b[0m\u001b[0m\n\u001b[1;32m     13\u001b[0m \u001b[0mplt\u001b[0m\u001b[0;34m.\u001b[0m\u001b[0msubplot\u001b[0m\u001b[0;34m(\u001b[0m\u001b[0;36m1\u001b[0m\u001b[0;34m,\u001b[0m \u001b[0;36m3\u001b[0m\u001b[0;34m,\u001b[0m \u001b[0;36m2\u001b[0m\u001b[0;34m)\u001b[0m\u001b[0;34m\u001b[0m\u001b[0;34m\u001b[0m\u001b[0m\n\u001b[0;32m---> 14\u001b[0;31m \u001b[0mplt\u001b[0m\u001b[0;34m.\u001b[0m\u001b[0mplot\u001b[0m\u001b[0;34m(\u001b[0m\u001b[0mhistory\u001b[0m\u001b[0;34m.\u001b[0m\u001b[0mhistory\u001b[0m\u001b[0;34m[\u001b[0m\u001b[0;34m'acc'\u001b[0m\u001b[0;34m]\u001b[0m\u001b[0;34m,\u001b[0m \u001b[0;34m'black'\u001b[0m\u001b[0;34m,\u001b[0m \u001b[0mlabel\u001b[0m\u001b[0;34m=\u001b[0m\u001b[0;34m'training'\u001b[0m\u001b[0;34m)\u001b[0m\u001b[0;34m\u001b[0m\u001b[0;34m\u001b[0m\u001b[0m\n\u001b[0m\u001b[1;32m     15\u001b[0m \u001b[0mplt\u001b[0m\u001b[0;34m.\u001b[0m\u001b[0mplot\u001b[0m\u001b[0;34m(\u001b[0m\u001b[0mhistory\u001b[0m\u001b[0;34m.\u001b[0m\u001b[0mhistory\u001b[0m\u001b[0;34m[\u001b[0m\u001b[0;34m'val_acc'\u001b[0m\u001b[0;34m]\u001b[0m\u001b[0;34m,\u001b[0m \u001b[0;34m'cornflowerblue'\u001b[0m\u001b[0;34m,\u001b[0m \u001b[0mlabel\u001b[0m\u001b[0;34m=\u001b[0m\u001b[0;34m'test'\u001b[0m\u001b[0;34m)\u001b[0m\u001b[0;34m\u001b[0m\u001b[0;34m\u001b[0m\u001b[0m\n\u001b[1;32m     16\u001b[0m \u001b[0mplt\u001b[0m\u001b[0;34m.\u001b[0m\u001b[0mlegend\u001b[0m\u001b[0;34m(\u001b[0m\u001b[0;34m)\u001b[0m\u001b[0;34m\u001b[0m\u001b[0;34m\u001b[0m\u001b[0m\n",
      "\u001b[0;31mKeyError\u001b[0m: 'acc'"
     ]
    },
    {
     "data": {
      "image/png": "[encoded data removed]",
      "text/plain": [
       "<Figure size 864x216 with 2 Axes>"
      ]
     },
     "metadata": {},
     "output_type": "display_data"
    }
   ],
   "source": [
    "# 리스트 7-2-(4)\n",
    "plt.figure(1, figsize=(12, 3))\n",
    "plt.subplots_adjust(wspace=0.5)\n",
    "\n",
    "\n",
    "# 학습 곡선 표시 -----------------\n",
    "plt.subplot(1, 3, 1)\n",
    "plt.plot(history.history['loss'], 'black', label='training')\n",
    "plt.plot(history.history['val_loss'], 'cornflowerblue', label='test')\n",
    "plt.legend()\n",
    "\n",
    "# 정확도 표시 --------------------\n",
    "plt.subplot(1, 3, 2)\n",
    "plt.plot(history.history['acc'], 'black', label='training')\n",
    "plt.plot(history.history['val_acc'], 'cornflowerblue', label='test')\n",
    "plt.legend()\n",
    "\n",
    "# 경계선 표시 --------------------\n",
    "plt.subplot(1, 3, 3)\n",
    "Show_data(X_test, T_test)\n",
    "xn = 60\n",
    "x0 = np.linspace(X_range0[0], X_range0[1], xn)\n",
    "x1 = np.linspace(X_range1[0], X_range1[1], xn)\n",
    "xx0, xx1 = np.meshgrid(x0, x1)\n",
    "x = np.c_[np.reshape(xx0, xn*xn, 1), np.reshape(xx1, xn*xn, 1)]\n",
    "y = model.predict(x)\n",
    "K = 3\n",
    "for ic in range(K):\n",
    "    f = y[:, ic]\n",
    "    f = f.reshape(xn, xn)\n",
    "    f = f.T\n",
    "    cont = plt.contour(xx0, xx1, f, levels=[0.5, 0.9], colors=['cornflowerblue', 'black'])\n",
    "    cont.clabel(fmt='%1.1f', fontsize=9)\n",
    "    plt.xlim(X_range0)\n",
    "    plt.ylim(X_range1)\n",
    "plt.show()"
   ]
  },
  {
   "cell_type": "code",
   "execution_count": null,
   "metadata": {},
   "outputs": [],
   "source": []
  }
 ],
 "metadata": {
  "kernelspec": {
   "display_name": "Python 3",
   "language": "python",
   "name": "python3"
  },
  "language_info": {
   "codemirror_mode": {
    "name": "ipython",
    "version": 3
   },
   "file_extension": ".py",
   "mimetype": "text/x-python",
   "name": "python",
   "nbconvert_exporter": "python",
   "pygments_lexer": "ipython3",
   "version": "3.6.9"
  }
 },
 "nbformat": 4,
 "nbformat_minor": 2
}
