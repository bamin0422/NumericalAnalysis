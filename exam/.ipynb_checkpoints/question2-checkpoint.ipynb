{
 "cells": [
  {
   "cell_type": "code",
   "execution_count": 38,
   "metadata": {},
   "outputs": [
    {
     "name": "stdout",
     "output_type": "stream",
     "text": [
      "Real Root=  [1.13621076e-81]\n",
      "root v=  2.4868995751603507e-13\n",
      "f(root weight, should be zero) = 5.641912138500003e-27\n",
      "ea = should be less than 1.0e-4 100.0\n",
      "iter = 50\n"
     ]
    },
    {
     "name": "stderr",
     "output_type": "stream",
     "text": [
      "/home/bamin/.local/lib/python3.6/site-packages/scipy/optimize/minpack.py:162: RuntimeWarning: The number of calls to function has reached maxfev = 400.\n",
      "  warnings.warn(msg, RuntimeWarning)\n"
     ]
    },
    {
     "data": {
      "image/png": "[encoded data removed]",
      "text/plain": [
       "<Figure size 432x288 with 1 Axes>"
      ]
     },
     "metadata": {},
     "output_type": "display_data"
    }
   ],
   "source": [
    "import numpy as np\n",
    "import matplotlib.pyplot as plt\n",
    "from scipy.optimize import fsolve\n",
    "\n",
    "\n",
    "\n",
    "def newton_raphson(func, dfunc, xr, xt):\n",
    "    maxit = 50\n",
    "    es = 1.0e-5\n",
    "    iter = 0\n",
    "\n",
    "    while (1):\n",
    "        xrold = xr\n",
    "        xr = np.float(xr - func(xr) / dfunc(xr))\n",
    "\n",
    "        iter = iter + 1\n",
    "\n",
    "        if xr != 0:\n",
    "            ea = np.float(np.abs((np.float(xr) - np.float(xrold)) / np.float(xr)) * 100)\n",
    "            et= np.float(np.abs((np.float(xt) - np.float(xr)) / np.float(xt)) * 100)\n",
    "\n",
    "        if np.int(ea <= es) | np.int(iter >= maxit):\n",
    "            break\n",
    "\n",
    "        root = xr\n",
    "        fx = func(xr)\n",
    "    return root, fx, ea, iter\n",
    "\n",
    "if __name__ == '__main__':\n",
    "    g = 9.8; v;\n",
    "    fm = lambda v: 2*(v**2)*(np.sin(45))*(np.cos(45)) / g\n",
    "    xt = fsolve(fm, 200)\n",
    "    print(\"Real Root= \", xt)\n",
    "\n",
    "    fp = lambda v: 2*(v**2)*(np.sin(45))*(np.cos(45)) / g\n",
    "    dfp = lambda v: 4*(v)*(np.sin(45))*(np.cos(45)) / g\n",
    "\n",
    "    root, fx, ea, iter = newton_raphson(fp, dfp, 140, xt)\n",
    "    print('root v= ', root)\n",
    "    print('f(root weight, should be zero) =', fx)\n",
    "    print('ea = should be less than 1.0e-4', ea)\n",
    "    print('iter =', iter)\n",
    "    v=np.linspace(0,100)\n",
    "    fl = 2*(v**2)*(np.sin(45))*(np.cos(45)) / g\n",
    "    k=v*0\n",
    "    plt.plot(v, fl, v, k, 'black', v, v*0+200, 'yellow')\n",
    "    plt.xlim(0, 100)\n",
    "    plt.ylim(0,500)\n",
    "    \n",
    "    plt.grid()\n",
    "    plt.show()"
   ]
  },
  {
   "cell_type": "code",
   "execution_count": null,
   "metadata": {},
   "outputs": [],
   "source": []
  },
  {
   "cell_type": "code",
   "execution_count": null,
   "metadata": {},
   "outputs": [],
   "source": []
  }
 ],
 "metadata": {
  "kernelspec": {
   "display_name": "Python 3",
   "language": "python",
   "name": "python3"
  },
  "language_info": {
   "codemirror_mode": {
    "name": "ipython",
    "version": 3
   },
   "file_extension": ".py",
   "mimetype": "text/x-python",
   "name": "python",
   "nbconvert_exporter": "python",
   "pygments_lexer": "ipython3",
   "version": "3.6.9"
  }
 },
 "nbformat": 4,
 "nbformat_minor": 2
}
