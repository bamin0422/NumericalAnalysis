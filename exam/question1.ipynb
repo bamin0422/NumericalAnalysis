{
 "cells": [
  {
   "cell_type": "code",
   "execution_count": 2,
   "metadata": {},
   "outputs": [
    {
     "ename": "SyntaxError",
     "evalue": "invalid syntax (<ipython-input-2-285e93042279>, line 40)",
     "output_type": "error",
     "traceback": [
      "\u001b[0;36m  File \u001b[0;32m\"<ipython-input-2-285e93042279>\"\u001b[0;36m, line \u001b[0;32m40\u001b[0m\n\u001b[0;31m    fm=lambda m: x**3 +\u001b[0m\n\u001b[0m                       ^\u001b[0m\n\u001b[0;31mSyntaxError\u001b[0m\u001b[0;31m:\u001b[0m invalid syntax\n"
     ]
    }
   ],
   "source": [
    "import matplotlib.pyplot as plt\n",
    "import numpy as np\n",
    "\n",
    "def bisect(func, xl, xu):\n",
    "    maxit=100\n",
    "    es=1.0e-4\n",
    "    test=func(xl)*func(xu)\n",
    "    \n",
    "    if(test>0):\n",
    "        print('No sign change')\n",
    "        return [], [], [], []\n",
    "    \n",
    "    iter=0\n",
    "    xr=xl\n",
    "    \n",
    "    ea=100\n",
    "    \n",
    "    while(1):\n",
    "        xrold=xr\n",
    "        xr=np.float((xl+xu)/2)\n",
    "        iter=iter+1\n",
    "        \n",
    "        if xr != 0:\n",
    "            ea=np.float(np.abs(np.float(xr)-np.float(xrold))/np.float(xr))*100\n",
    "            test=func(xl)*func(xr)\n",
    "            if test > 0:\n",
    "                xl=xr\n",
    "            elif test < 0:\n",
    "                xu=xr\n",
    "            else:\n",
    "                ea=0\n",
    "            if np.int(ea<es) | np.int(iter >= maxit):\n",
    "                break\n",
    "        root=xr\n",
    "        fx=func(xr)\n",
    "        \n",
    "    return root, fx, ea, iter\n",
    "\n",
    "if __name__== '__main__':\n",
    "    fm=lambda m: x**3 +\n",
    "    root, fx, ea, iter=bisect(fm, 40, 200)\n",
    "    print('root = ', root, '(Bisection)')\n",
    "    print('f(root) = ', fx, '(must be zero, Bisection)')\n",
    "    print('estimated error= ', ea, '(must be zero error, Bisection)')\n",
    "    print('iterated number to find root =', iter, '(Bisection)')\n",
    "    m=np.linspace(40,200)\n",
    "    k=m*0\n",
    "    plt.ylim(-6,6)\n",
    "    plt.xlim(40,200)\n",
    "    fm = np.sqrt(9.81*m/0.25)*np.tanh( np.sqrt(9.81*0.25/m)*4 )-36\n",
    "    plt.plot(m, fm, m, k, 'black')\n",
    "    \n",
    "    plt.grid()\n",
    "    plt.show()"
   ]
  },
  {
   "cell_type": "code",
   "execution_count": null,
   "metadata": {},
   "outputs": [],
   "source": []
  },
  {
   "cell_type": "code",
   "execution_count": null,
   "metadata": {},
   "outputs": [],
   "source": []
  }
 ],
 "metadata": {
  "kernelspec": {
   "display_name": "Python 3",
   "language": "python",
   "name": "python3"
  },
  "language_info": {
   "codemirror_mode": {
    "name": "ipython",
    "version": 3
   },
   "file_extension": ".py",
   "mimetype": "text/x-python",
   "name": "python",
   "nbconvert_exporter": "python",
   "pygments_lexer": "ipython3",
   "version": "3.6.9"
  }
 },
 "nbformat": 4,
 "nbformat_minor": 2
}
